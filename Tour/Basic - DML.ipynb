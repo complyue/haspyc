{
 "cells": [
  {
   "cell_type": "code",
   "execution_count": null,
   "metadata": {},
   "outputs": [],
   "source": [
    "from IPython.display import HTML, clear_output, display\n",
    "\n",
    "display(HTML(\"<style>.container { width:98% !important; }</style>\"))"
   ]
  },
  {
   "cell_type": "code",
   "execution_count": null,
   "metadata": {},
   "outputs": [],
   "source": []
  },
  {
   "cell_type": "code",
   "execution_count": null,
   "metadata": {},
   "outputs": [],
   "source": [
    "import asyncio\n",
    "from typing import *\n",
    "\n",
    "from hastalk import *\n",
    "from haspyc import *\n",
    "\n",
    "logger = get_logger(\"haspyc.tour\")\n"
   ]
  },
  {
   "cell_type": "code",
   "execution_count": null,
   "metadata": {},
   "outputs": [],
   "source": []
  },
  {
   "cell_type": "code",
   "execution_count": null,
   "metadata": {},
   "outputs": [],
   "source": [
    "(CONOUT,CONMSG)  # standard Nedh channels"
   ]
  },
  {
   "cell_type": "code",
   "execution_count": null,
   "metadata": {},
   "outputs": [],
   "source": [
    "dbc = await DbClient(\n",
    "    data_dir=\"/var/tmp/demo\",\n",
    "    service_addr=\"127.0.0.1\",\n",
    "    service_port=3721,\n",
    ")\n",
    "peer = await dbc.peer\n",
    "dbc"
   ]
  },
  {
   "cell_type": "code",
   "execution_count": null,
   "metadata": {},
   "outputs": [],
   "source": []
  },
  {
   "cell_type": "code",
   "execution_count": null,
   "metadata": {},
   "outputs": [],
   "source": [
    "    await peer.post_command(expr(r\"\"\"\n",
    "peer.p2c({$ CONMSG $}, repr('Starting...'))\n",
    "\"\"\"))"
   ]
  },
  {
   "cell_type": "code",
   "execution_count": null,
   "metadata": {},
   "outputs": [],
   "source": []
  },
  {
   "cell_type": "code",
   "execution_count": null,
   "metadata": {
    "scrolled": false
   },
   "outputs": [],
   "source": [
    "\n",
    "    data_chan = \"data1\"\n",
    "    data_sink = peer.arm_channel(data_chan)\n",
    "    data_sink.run_producer(\n",
    "        peer.post_command(\n",
    "            expr(\n",
    "                r\"\"\"\n",
    "case db.deptByName[ 'Dev' ] of {\n",
    "    { dev } -> { pass }\n",
    "\n",
    "    peer.p2c({$ CONMSG $}, repr(\n",
    "        'Populating DB contents.'\n",
    "    ))\n",
    "\n",
    "    dev = Depart('Dev')\n",
    "\n",
    "    compl = Person( name = 'Compl', age = 41 )\n",
    "    jim = Person( name = 'Jim', age = 11 )\n",
    "\n",
    "    WorkFor( compl, dev, 12345 )\n",
    "    WorkFor( jim, dev, 54321 )\n",
    "}\n",
    "\n",
    "case db.personByName['Compl'] of { compl=>_ } -> {\n",
    "    peer.p2c({$ data_chan $}, repr(\n",
    "        {\"name\": compl.name, 'description': repr(compl)}\n",
    "    ))\n",
    "}\n",
    "case db.personByName['Jim'] of { jim=>_ } -> {\n",
    "    peer.p2c({$ data_chan $}, repr(\n",
    "        {\"name\": jim.name, 'version': repr( jim.version $=> 'legacy' )}\n",
    "    ))\n",
    "}\n",
    "\n",
    "peer.p2c({$ data_chan $}, repr(\n",
    "    {\n",
    "        'name': dev.name, \n",
    "        'workers': ([] =< for (ixk, workRel) from dev.workers.range() do\n",
    "            {'name': workRel.person.name, 'ixk': repr(ixk), }\n",
    "        ),\n",
    "\n",
    "    }\n",
    "))\n",
    "\n",
    "peer.p2c({$ CONMSG $}, repr(\"That's it atm.\"))\n",
    "peer.p2c({$ data_chan $}, expr EndOfStream)\n",
    "    \"\"\"\n",
    "            )\n",
    "        )\n",
    "    )\n",
    "    async for record in data_sink.stream():\n",
    "        print(\"Got data:\", record)\n"
   ]
  },
  {
   "cell_type": "code",
   "execution_count": null,
   "metadata": {},
   "outputs": [],
   "source": []
  },
  {
   "cell_type": "code",
   "execution_count": null,
   "metadata": {
    "scrolled": false
   },
   "outputs": [],
   "source": [
    "    await peer.post_command(expr(r\"\"\"\n",
    "peer.p2c({$ CONMSG $}, repr('Done.'))\n",
    "\"\"\"))"
   ]
  },
  {
   "cell_type": "code",
   "execution_count": null,
   "metadata": {},
   "outputs": [],
   "source": []
  },
  {
   "cell_type": "code",
   "execution_count": null,
   "metadata": {},
   "outputs": [],
   "source": []
  },
  {
   "cell_type": "code",
   "execution_count": null,
   "metadata": {},
   "outputs": [],
   "source": [
    "dbc.stop()\n",
    "await dbc.join()  # reraise any error encountered\n"
   ]
  },
  {
   "cell_type": "code",
   "execution_count": null,
   "metadata": {},
   "outputs": [],
   "source": []
  }
 ],
 "metadata": {
  "kernelspec": {
   "display_name": "Python 3",
   "language": "python",
   "name": "python3"
  },
  "language_info": {
   "codemirror_mode": {
    "name": "ipython",
    "version": 3
   },
   "file_extension": ".py",
   "mimetype": "text/x-python",
   "name": "python",
   "nbconvert_exporter": "python",
   "pygments_lexer": "ipython3",
   "version": "3.7.6"
  }
 },
 "nbformat": 4,
 "nbformat_minor": 4
}
