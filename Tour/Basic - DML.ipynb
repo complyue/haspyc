{
 "cells": [
  {
   "cell_type": "code",
   "execution_count": null,
   "metadata": {},
   "outputs": [],
   "source": [
    "from IPython.display import HTML, clear_output, display\n",
    "\n",
    "display(HTML(\"<style>.container { width:98% !important; }</style>\"))"
   ]
  },
  {
   "cell_type": "code",
   "execution_count": null,
   "metadata": {},
   "outputs": [],
   "source": []
  },
  {
   "cell_type": "code",
   "execution_count": null,
   "metadata": {},
   "outputs": [],
   "source": [
    "import asyncio\n",
    "from typing import *\n",
    "\n",
    "from hastalk import *\n",
    "from haspyc import *\n",
    "\n",
    "logger = get_logger(\"haspyc.tour\")\n"
   ]
  },
  {
   "cell_type": "code",
   "execution_count": null,
   "metadata": {},
   "outputs": [],
   "source": [
    "dbc = await DbClient(\n",
    "    data_dir=\"/var/tmp/demo\",\n",
    "    service_addr=\"127.0.0.1\",\n",
    "    service_port=3721,\n",
    ")\n",
    "peer = await dbc.peer"
   ]
  },
  {
   "cell_type": "code",
   "execution_count": null,
   "metadata": {},
   "outputs": [],
   "source": [
    "dbc"
   ]
  },
  {
   "cell_type": "code",
   "execution_count": null,
   "metadata": {},
   "outputs": [],
   "source": [
    "peer"
   ]
  },
  {
   "cell_type": "code",
   "execution_count": null,
   "metadata": {},
   "outputs": [],
   "source": []
  },
  {
   "cell_type": "code",
   "execution_count": null,
   "metadata": {},
   "outputs": [],
   "source": [
    "    await peer.post_command(\n",
    "        r\"\"\"\n",
    "peer.p2c(2, repr('Starting...'))\n",
    "\"\"\"\n",
    "    )"
   ]
  },
  {
   "cell_type": "code",
   "execution_count": null,
   "metadata": {},
   "outputs": [],
   "source": []
  },
  {
   "cell_type": "code",
   "execution_count": null,
   "metadata": {
    "scrolled": false
   },
   "outputs": [],
   "source": [
    "\n",
    "    await peer.post_command(\n",
    "        r\"\"\"\n",
    "case db.deptByName[ 'Dev' ] of {\n",
    "    { dev } -> { pass }\n",
    "\n",
    "    peer.p2c(2, repr(\n",
    "        'Populating DB contents.'\n",
    "    ))\n",
    "\n",
    "    dev = Depart('Dev')\n",
    "\n",
    "    compl = Person( name = 'Compl', age = 41 )\n",
    "    jim = Person( name = 'Jim', age = 11 )\n",
    "\n",
    "    WorkFor( compl, dev, 12345 )\n",
    "    WorkFor( jim, dev, 54321 )\n",
    "}\n",
    "\n",
    "case db.personByName['Compl'] of { compl=>_ } -> {\n",
    "    peer.p2c(1, repr(\n",
    "        \"Compl's record is: \" ++ compl\n",
    "    ))\n",
    "}\n",
    "case db.personByName['Jim'] of { jim=>_ } -> {\n",
    "    peer.p2c(1, repr(\n",
    "        \"Got a Jim ver# \" ++ ( jim.version $=> 'legacy' )\n",
    "    ))\n",
    "}\n",
    "peer.p2c(1, repr(\n",
    "    'Dev Org is ' ++ dev ++ ' with workers:'\n",
    "))\n",
    "for (ixk, workRel) from dev.workers.range() do\n",
    "    peer.p2c(1, repr(\n",
    "        '  ' ++ workRel.person ++ ' in order of ' ++ ixk\n",
    "    ))\n",
    "\n",
    "# some artificial delay\n",
    "for _ from console.everyMillis(200) do { break }\n",
    "\n",
    "peer.p2c(1, repr(\"That's it atm.\"))\n",
    "\n",
    "\"\"\"\n",
    "    )\n"
   ]
  },
  {
   "cell_type": "code",
   "execution_count": null,
   "metadata": {},
   "outputs": [],
   "source": []
  },
  {
   "cell_type": "code",
   "execution_count": null,
   "metadata": {
    "scrolled": false
   },
   "outputs": [],
   "source": [
    "    await peer.post_command(\n",
    "        r\"\"\"\n",
    "peer.p2c(2, repr('Done.'))\n",
    "\"\"\"\n",
    "    )"
   ]
  },
  {
   "cell_type": "code",
   "execution_count": null,
   "metadata": {},
   "outputs": [],
   "source": []
  },
  {
   "cell_type": "code",
   "execution_count": null,
   "metadata": {},
   "outputs": [],
   "source": []
  },
  {
   "cell_type": "code",
   "execution_count": null,
   "metadata": {},
   "outputs": [],
   "source": [
    "dbc.stop()\n",
    "await dbc.join()  # reraise any error encountered\n"
   ]
  },
  {
   "cell_type": "code",
   "execution_count": null,
   "metadata": {},
   "outputs": [],
   "source": []
  }
 ],
 "metadata": {
  "kernelspec": {
   "display_name": "Python 3",
   "language": "python",
   "name": "python3"
  },
  "language_info": {
   "codemirror_mode": {
    "name": "ipython",
    "version": 3
   },
   "file_extension": ".py",
   "mimetype": "text/x-python",
   "name": "python",
   "nbconvert_exporter": "python",
   "pygments_lexer": "ipython3",
   "version": "3.7.6"
  }
 },
 "nbformat": 4,
 "nbformat_minor": 4
}
